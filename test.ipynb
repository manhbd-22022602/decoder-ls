{
 "cells": [
  {
   "cell_type": "code",
   "execution_count": 1,
   "metadata": {},
   "outputs": [],
   "source": [
    "import torch\n",
    "import torch.nn.functional as F\n",
    "\n",
    "from modules.model import TransformerLSDecoder\n",
    "\n",
    "decoder = TransformerLSDecoder(vocab_size=10, d_model=256, n_head=8, d_inner=16, n_layer=12, dropout=0.2, emb_dropout=0.2, chunk_rank=1, chunk_size=16, mem_len=16, window_len=4, grad_chk=False, pre_ln=True, use_gelu=True, use_bias=False, clamp_len=-1, cpos_clamp_len=-1, probing=False)\n"
   ]
  },
  {
   "cell_type": "code",
   "execution_count": 2,
   "metadata": {},
   "outputs": [],
   "source": [
    "_mems = None\n",
    "num_epochs = 10\n",
    "optimizer = torch.optim.Adam(decoder.parameters(), lr=0.001)\n"
   ]
  },
  {
   "cell_type": "code",
   "execution_count": 6,
   "metadata": {},
   "outputs": [
    {
     "data": {
      "text/plain": [
       "tensor([[2, 4, 3, 5, 5, 4, 3, 3, 8, 4, 6, 8, 4, 3, 7, 7]])"
      ]
     },
     "execution_count": 6,
     "metadata": {},
     "output_type": "execute_result"
    }
   ],
   "source": [
    "src_tokens = torch.randint(0, 10, (1, 16))\n",
    "trg_tokens = src_tokens.roll(shifts=-1, dims=1)\n",
    "trg_tokens"
   ]
  },
  {
   "cell_type": "code",
   "execution_count": 7,
   "metadata": {},
   "outputs": [
    {
     "name": "stdout",
     "output_type": "stream",
     "text": [
      "Prediction: 2435543384684377\n",
      "Target: 2435543384684377\n",
      "Epoch 1, Loss: 3.156334400177002, Edit Distance: 1.0\n",
      "=============\n",
      "Prediction: 2435543384684377\n",
      "Target: 2435543384684377\n",
      "Epoch 2, Loss: 3.019670248031616, Edit Distance: 1.0\n",
      "=============\n",
      "Prediction: 2435543384684377\n",
      "Target: 2435543384684377\n",
      "Epoch 3, Loss: 2.6530404090881348, Edit Distance: 1.0\n",
      "=============\n",
      "Prediction: 2435543384684377\n",
      "Target: 2435543384684377\n",
      "Epoch 4, Loss: 2.5919203758239746, Edit Distance: 1.0\n",
      "=============\n",
      "Prediction: 2435543384684377\n",
      "Target: 2435543384684377\n",
      "Epoch 5, Loss: 2.25030779838562, Edit Distance: 1.0\n",
      "=============\n",
      "Prediction: 2435543384684377\n",
      "Target: 2435543384684377\n",
      "Epoch 6, Loss: 2.0488860607147217, Edit Distance: 1.0\n",
      "=============\n",
      "Prediction: 2435543384684377\n",
      "Target: 2435543384684377\n",
      "Epoch 7, Loss: 2.147839069366455, Edit Distance: 1.0\n",
      "=============\n",
      "Prediction: 2435543384684377\n",
      "Target: 2435543384684377\n",
      "Epoch 8, Loss: 2.0518670082092285, Edit Distance: 1.0\n",
      "=============\n",
      "Prediction: 2435543384684377\n",
      "Target: 2435543384684377\n",
      "Epoch 9, Loss: 1.9159176349639893, Edit Distance: 1.0\n",
      "=============\n",
      "Prediction: 2435543384684377\n",
      "Target: 2435543384684377\n",
      "Epoch 10, Loss: 1.9300074577331543, Edit Distance: 1.0\n",
      "=============\n"
     ]
    }
   ],
   "source": [
    "from nltk.metrics import edit_distance\n",
    "\n",
    "for epoch in range(1, num_epochs+1):\n",
    "    bsz = src_tokens.size(0)\n",
    "    mems = _mems\n",
    "\n",
    "    if mems is None:\n",
    "        # first time init\n",
    "        mems = decoder.init_hid_cache(bsz)\n",
    "\n",
    "    output, mems, _ = decoder(\n",
    "        x=src_tokens, \n",
    "        h_cache=mems,\n",
    "    )\n",
    "\n",
    "    _mems = mems\n",
    "    loss = F.cross_entropy(output.view(-1, output.size(-1)), trg_tokens.view(-1))\n",
    "    loss.backward()\n",
    "    optimizer.step()\n",
    "    optimizer.zero_grad()\n",
    "    \n",
    "    if (epoch+1) % 1 == 0:\n",
    "        logits = torch.argmax(output, dim=-1)\n",
    "        pred_str = ''.join(map(str, trg_tokens.squeeze().tolist()))\n",
    "        trg_str = ''.join(map(str, trg_tokens.squeeze().tolist()))\n",
    "        edit_dist = 1 - edit_distance(pred_str, trg_str) / len(trg_str.split())\n",
    "        print(\"Prediction:\", pred_str)\n",
    "        print(\"Target:\", trg_str)\n",
    "        print(f\"Epoch {epoch}, Loss: {loss.item()}, Edit Distance: {edit_dist}\")\n",
    "        print(\"=============\")\n"
   ]
  },
  {
   "cell_type": "code",
   "execution_count": null,
   "metadata": {},
   "outputs": [],
   "source": []
  }
 ],
 "metadata": {
  "kernelspec": {
   "display_name": "Python 3",
   "language": "python",
   "name": "python3"
  },
  "language_info": {
   "codemirror_mode": {
    "name": "ipython",
    "version": 3
   },
   "file_extension": ".py",
   "mimetype": "text/x-python",
   "name": "python",
   "nbconvert_exporter": "python",
   "pygments_lexer": "ipython3",
   "version": "3.10.10"
  }
 },
 "nbformat": 4,
 "nbformat_minor": 2
}
